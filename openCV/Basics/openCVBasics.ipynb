{
 "cells": [
  {
   "cell_type": "code",
   "execution_count": 1,
   "metadata": {},
   "outputs": [
    {
     "name": "stdout",
     "output_type": "stream",
     "text": [
      "4.1.0\n",
      "[[[ 40  41  41 ...  31  31  31]\n",
      "  [ 40  41  41 ...  29  29  28]\n",
      "  [ 43  43  43 ...  25  25  24]\n",
      "  ...\n",
      "  [171 169 165 ...  17  21  30]\n",
      "  [164 161 162 ...  24  25  23]\n",
      "  [161 157 160 ...  40  36  21]]\n",
      "\n",
      " [[ 44  45  45 ...  30  30  30]\n",
      "  [ 44  45  45 ...  28  28  27]\n",
      "  [ 44  44  44 ...  24  24  23]\n",
      "  ...\n",
      "  [204 200 196 ...  23  29  38]\n",
      "  [199 196 195 ...  30  33  31]\n",
      "  [199 195 195 ...  46  45  30]]\n",
      "\n",
      " [[ 39  40  40 ...  32  32  32]\n",
      "  [ 39  40  40 ...  30  30  29]\n",
      "  [ 40  40  40 ...  26  26  25]\n",
      "  ...\n",
      "  [207 203 199 ...  36  42  51]\n",
      "  [202 199 198 ...  43  46  44]\n",
      "  [201 197 198 ...  57  55  40]]]\n"
     ]
    }
   ],
   "source": [
    "import cv2\n",
    "print(cv2.__version__)\n",
    "image = cv2.imread('dataset/training_set/cats/cat.1.jpg')\n",
    "# transposed matrix of the given image matrix\n",
    "print(image.T)"
   ]
  },
  {
   "cell_type": "code",
   "execution_count": 2,
   "metadata": {},
   "outputs": [
    {
     "name": "stdout",
     "output_type": "stream",
     "text": [
      "(280, 300, 3)\n"
     ]
    }
   ],
   "source": [
    "dimensions = image.shape\n",
    "print(dimensions)"
   ]
  },
  {
   "cell_type": "code",
   "execution_count": 3,
   "metadata": {},
   "outputs": [
    {
     "name": "stdout",
     "output_type": "stream",
     "text": [
      "280\n"
     ]
    }
   ],
   "source": [
    "# Height: the number of pixels in each column of the image array.\n",
    "height = dimensions[0]\n",
    "print(height)"
   ]
  },
  {
   "cell_type": "code",
   "execution_count": 4,
   "metadata": {},
   "outputs": [
    {
     "name": "stdout",
     "output_type": "stream",
     "text": [
      "300\n"
     ]
    }
   ],
   "source": [
    "# Width: the number of pixels in each row of the image array.\n",
    "width = dimensions[1]\n",
    "print(width)"
   ]
  },
  {
   "cell_type": "code",
   "execution_count": 5,
   "metadata": {},
   "outputs": [
    {
     "name": "stdout",
     "output_type": "stream",
     "text": [
      "3\n"
     ]
    }
   ],
   "source": [
    "# Channels: the number of components used to represent each pixel.\n",
    "channels = dimensions[2]\n",
    "print(channels)"
   ]
  },
  {
   "cell_type": "code",
   "execution_count": 6,
   "metadata": {},
   "outputs": [],
   "source": [
    "# Displaying the image \n",
    "cv2.imshow(\"Cat Image\", image)\n",
    "\n",
    "# Waiting for a key to be pressed\n",
    "cv2.waitKey(0)\n",
    "# Destroys the windows showing the image\n",
    "cv2.destroyAllWindows()"
   ]
  }
 ],
 "metadata": {
  "kernelspec": {
   "display_name": "Python 3",
   "language": "python",
   "name": "python3"
  },
  "language_info": {
   "codemirror_mode": {
    "name": "ipython",
    "version": 3
   },
   "file_extension": ".py",
   "mimetype": "text/x-python",
   "name": "python",
   "nbconvert_exporter": "python",
   "pygments_lexer": "ipython3",
   "version": "3.7.6"
  }
 },
 "nbformat": 4,
 "nbformat_minor": 4
}
